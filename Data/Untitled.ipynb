{
 "cells": [
  {
   "cell_type": "code",
   "execution_count": 3,
   "id": "55044384",
   "metadata": {},
   "outputs": [],
   "source": [
    "import pandas as pd"
   ]
  },
  {
   "cell_type": "code",
   "execution_count": 10,
   "id": "c61ebe71",
   "metadata": {},
   "outputs": [],
   "source": [
    "# Files to load\n",
    "retiring_departments = pd.read_csv(\"retiring_departments.csv\")\n",
    "department_mentors = pd.read_csv(\"department_mentors.csv\")\n",
    "active_departments = pd.read_csv(\"active_departments.csv\")"
   ]
  },
  {
   "cell_type": "code",
   "execution_count": 15,
   "id": "09f4c004",
   "metadata": {},
   "outputs": [
    {
     "data": {
      "text/plain": [
       "0.1522927824615746"
      ]
     },
     "execution_count": 15,
     "metadata": {},
     "output_type": "execute_result"
    }
   ],
   "source": [
    "p = retiring_departments['count']/active_departments['count']\n",
    "p.mean()"
   ]
  },
  {
   "cell_type": "code",
   "execution_count": 20,
   "id": "67756c57",
   "metadata": {},
   "outputs": [
    {
     "data": {
      "text/html": [
       "<div>\n",
       "<style scoped>\n",
       "    .dataframe tbody tr th:only-of-type {\n",
       "        vertical-align: middle;\n",
       "    }\n",
       "\n",
       "    .dataframe tbody tr th {\n",
       "        vertical-align: top;\n",
       "    }\n",
       "\n",
       "    .dataframe thead th {\n",
       "        text-align: right;\n",
       "    }\n",
       "</style>\n",
       "<table border=\"1\" class=\"dataframe\">\n",
       "  <thead>\n",
       "    <tr style=\"text-align: right;\">\n",
       "      <th></th>\n",
       "      <th>count_2</th>\n",
       "      <th>dept_name</th>\n",
       "    </tr>\n",
       "  </thead>\n",
       "  <tbody>\n",
       "    <tr>\n",
       "      <th>0</th>\n",
       "      <td>435</td>\n",
       "      <td>Development</td>\n",
       "    </tr>\n",
       "    <tr>\n",
       "      <th>1</th>\n",
       "      <td>356</td>\n",
       "      <td>Production</td>\n",
       "    </tr>\n",
       "    <tr>\n",
       "      <th>2</th>\n",
       "      <td>272</td>\n",
       "      <td>Sales</td>\n",
       "    </tr>\n",
       "    <tr>\n",
       "      <th>3</th>\n",
       "      <td>128</td>\n",
       "      <td>Customer Service</td>\n",
       "    </tr>\n",
       "    <tr>\n",
       "      <th>4</th>\n",
       "      <td>126</td>\n",
       "      <td>Marketing</td>\n",
       "    </tr>\n",
       "    <tr>\n",
       "      <th>5</th>\n",
       "      <td>113</td>\n",
       "      <td>Research</td>\n",
       "    </tr>\n",
       "    <tr>\n",
       "      <th>6</th>\n",
       "      <td>107</td>\n",
       "      <td>Human Resources</td>\n",
       "    </tr>\n",
       "    <tr>\n",
       "      <th>7</th>\n",
       "      <td>97</td>\n",
       "      <td>Quality Management</td>\n",
       "    </tr>\n",
       "    <tr>\n",
       "      <th>8</th>\n",
       "      <td>74</td>\n",
       "      <td>Finance</td>\n",
       "    </tr>\n",
       "  </tbody>\n",
       "</table>\n",
       "</div>"
      ],
      "text/plain": [
       "   count_2           dept_name\n",
       "0      435         Development\n",
       "1      356          Production\n",
       "2      272               Sales\n",
       "3      128    Customer Service\n",
       "4      126           Marketing\n",
       "5      113            Research\n",
       "6      107     Human Resources\n",
       "7       97  Quality Management\n",
       "8       74             Finance"
      ]
     },
     "execution_count": 20,
     "metadata": {},
     "output_type": "execute_result"
    }
   ],
   "source": [
    "department_mentors.rename(columns={'count': 'count_2'})"
   ]
  },
  {
   "cell_type": "code",
   "execution_count": 23,
   "id": "d8037245",
   "metadata": {},
   "outputs": [],
   "source": [
    "new = active_departments.merge(department_mentors, on='dept_name')"
   ]
  },
  {
   "cell_type": "code",
   "execution_count": 27,
   "id": "49327229",
   "metadata": {},
   "outputs": [
    {
     "data": {
      "text/plain": [
       "count_x       int64\n",
       "dept_name    object\n",
       "count_y       int64\n",
       "dtype: object"
      ]
     },
     "execution_count": 27,
     "metadata": {},
     "output_type": "execute_result"
    }
   ],
   "source": [
    "new.astype({'count_x':'int64'}, {'count_y':'int64'}).dtypes"
   ]
  },
  {
   "cell_type": "code",
   "execution_count": 34,
   "id": "95982ad6",
   "metadata": {},
   "outputs": [],
   "source": [
    "result = new['count_y']/new['count_x']"
   ]
  },
  {
   "cell_type": "code",
   "execution_count": 36,
   "id": "b2ce12c1",
   "metadata": {},
   "outputs": [
    {
     "data": {
      "text/plain": [
       "0.007220794511887552"
      ]
     },
     "execution_count": 36,
     "metadata": {},
     "output_type": "execute_result"
    }
   ],
   "source": [
    "result.mean()"
   ]
  },
  {
   "cell_type": "code",
   "execution_count": null,
   "id": "ee3da4fc",
   "metadata": {},
   "outputs": [],
   "source": []
  }
 ],
 "metadata": {
  "kernelspec": {
   "display_name": "PythonData",
   "language": "python",
   "name": "pythondata"
  },
  "language_info": {
   "codemirror_mode": {
    "name": "ipython",
    "version": 3
   },
   "file_extension": ".py",
   "mimetype": "text/x-python",
   "name": "python",
   "nbconvert_exporter": "python",
   "pygments_lexer": "ipython3",
   "version": "3.7.11"
  }
 },
 "nbformat": 4,
 "nbformat_minor": 5
}
